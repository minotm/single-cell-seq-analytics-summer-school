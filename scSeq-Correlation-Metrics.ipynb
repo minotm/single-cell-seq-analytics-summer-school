{
  "cells": [
    {
      "cell_type": "code",
      "execution_count": null,
      "metadata": {
        "id": "VngIh6bwqWsq"
      },
      "outputs": [],
      "source": [
        "pip install scanpy"
      ]
    },
    {
      "cell_type": "code",
      "execution_count": null,
      "metadata": {
        "id": "ZwMggwsBqivf"
      },
      "outputs": [],
      "source": [
        "pip install besca"
      ]
    },
    {
      "cell_type": "code",
      "execution_count": null,
      "metadata": {
        "id": "0QohRTC4p7IE"
      },
      "outputs": [],
      "source": [
        "import numpy as np ## numpy is a library for mathematical functions and numerics\n",
        "import pandas as pd ## pandas is a library for working with data frames\n",
        "import scanpy as sc ## scanpy allows us working with single-cell omics data. besca is built upon scanpy\n",
        "import matplotlib.pyplot as plt ## matplotlib offers functions for visualizations\n",
        "import scipy\n",
        "from scipy import sparse, io ## scipy provides algorithms for optimization, integration, and other numerical operations\n",
        "import besca as bc ## besca enables reproducible single-cell analysis for translational studies\n",
        "import seaborn as sns ## seaborn is a high-level plotting library\n",
        "import os ## standard library to interact with the operational system\n",
        "import glob\n"
      ]
    },
    {
      "cell_type": "code",
      "execution_count": null,
      "metadata": {
        "colab": {
          "base_uri": "https://localhost:8080/",
          "height": 603
        },
        "id": "kRkqZXdRqUcS",
        "outputId": "1efd99a5-dfcd-4725-d83d-53fd160bdefb"
      },
      "outputs": [],
      "source": [
        "path = ''\n",
        "filename = 'CRC_Korean.annotated.updated.h5ad'\n",
        "adata = sc.read(path + filename)\n",
        "\n",
        "healthy = adata[adata.obs.Patient == 'SMC01']\n",
        "healthy = healthy[healthy.obs.dblabel == 'central memory CD4-positive, alpha-beta T cell']\n",
        "h = healthy.X\n",
        "\n",
        "cancer = adata[adata.obs.Patient == 'SMC07']\n",
        "cancer = cancer[cancer.obs.dblabel == 'central memory CD4-positive, alpha-beta T cell']\n",
        "c = cancer.X\n",
        "\n",
        "\n",
        "#to slice matrices to first 100 genes\n",
        "h = h[:, 0:100]\n",
        "c = c[:, 0:100]"
      ]
    },
    {
      "cell_type": "code",
      "execution_count": null,
      "metadata": {
        "id": "gZZl5D9Cq203"
      },
      "outputs": [],
      "source": [
        "adata.obs.dblabel.unique() #list of cell types present in data"
      ]
    },
    {
      "cell_type": "code",
      "execution_count": null,
      "metadata": {
        "id": "4LqxUuTHuB86"
      },
      "outputs": [],
      "source": [
        "#to slice matrices to first 100 genes\n",
        "h = h[:, 0:100]\n",
        "c = c[:, 0:100]"
      ]
    },
    {
      "cell_type": "code",
      "execution_count": null,
      "metadata": {
        "id": "BRydJNu_wdtW"
      },
      "outputs": [],
      "source": [
        "# Calculate gene correlation matrix for cells in healthy and cancer patients\n",
        "corr_c = pd.DataFrame(c).corr(method='spearman')\n",
        "corr_h = pd.DataFrame(h).corr(method='spearman')\n",
        "\n",
        "# change row indeces to gene names\n",
        "corr_c.index = list(cancer.var_names[:100])\n",
        "corr_h.index = list(healthy.var_names[:100])"
      ]
    },
    {
      "cell_type": "code",
      "execution_count": null,
      "metadata": {
        "id": "Loth4pin1oRw"
      },
      "outputs": [],
      "source": [
        "# Distance correlation matrix, heatmap & hist for c\n",
        "import dcor\n",
        "\n",
        "dc_c = np.empty((c.shape[1], c.shape[1]))\n",
        "for i in range(c.shape[1]):\n",
        "\tfor j in range(c.shape[1]):\n",
        "\t\tdc_c[i,j] = dcor.distance_correlation(c[:,i], c[:,j])\n",
        "\tprint(i)\n",
        "\n",
        "sns.heatmap(dis_c, annot=False)\n",
        "\n",
        "dis_c = 1 - abs(dc_c/np.max(dc_c))\n",
        "dis_c = dis_c - np.identity(c.shape[1])*dis_c[1,1]\n",
        "\n",
        "hist_c = plt.hist(dc_c, bins=40)\n",
        "plt.title(\"Histogram\")\n",
        "plt.show()"
      ]
    },
    {
      "cell_type": "code",
      "execution_count": null,
      "metadata": {
        "id": "5QjNGdhu0obp"
      },
      "outputs": [],
      "source": [
        "all(corr_c.index == corr_h.index)"
      ]
    },
    {
      "cell_type": "code",
      "execution_count": null,
      "metadata": {
        "id": "O4LPkhlJzyLW"
      },
      "outputs": [],
      "source": [
        "# Correlation heatmap\n",
        "plt.figure(figsize = (15,10))\n",
        "sns.heatmap(corr_c, annot=False)"
      ]
    },
    {
      "cell_type": "code",
      "execution_count": null,
      "metadata": {
        "id": "5p32VCkOUNM1"
      },
      "outputs": [],
      "source": [
        "# histogram plot\n",
        "hist_c = plt.hist(corr_c, bins=40)\n",
        "plt.title(\"Histogram\")\n",
        "plt.show()"
      ]
    },
    {
      "cell_type": "code",
      "execution_count": null,
      "metadata": {
        "id": "yWKBEat_5p8q"
      },
      "outputs": [],
      "source": [
        "#kmeans example code\n",
        "from sklearn.cluster import KMeans\n",
        "n_cl = 5\n",
        "label_c = KMeans(n_clusters=n_cl, random_state=0).fit_predict(corr_c)\n",
        "label_h = KMeans(n_clusters=n_cl, random_state=0).fit_predict(corr_h)\n"
      ]
    },
    {
      "cell_type": "code",
      "execution_count": null,
      "metadata": {
        "id": "_KAfNyeP2e_B"
      },
      "outputs": [],
      "source": [
        "# Silhouette plot for c\n",
        "from sklearn.metrics import silhouette_samples, silhouette_score\n",
        "import matplotlib.pyplot as plt\n",
        "import matplotlib.cm as cm\n",
        "import numpy as np\n",
        "\n",
        "range_n_clusters = range(1,10)\n",
        "for n_clusters in range_n_clusters:\n",
        "\tcluster_labels = KMeans(n_clusters=n_clusters, random_state=0).fit_predict(dis_c)\n",
        "\tsilhouette_avg = silhouette_score(dis_c, cluster_labels, metric=\"precomputed\")\n",
        "\tprint(\n",
        "        \"For n_clusters =\",\n",
        "        n_clusters,\n",
        "        \"The average silhouette_score is :\",\n",
        "        silhouette_avg,\n",
        "    )\n"
      ]
    },
    {
      "cell_type": "code",
      "execution_count": null,
      "metadata": {
        "id": "5pFNYyX6NYqM"
      },
      "outputs": [],
      "source": [
        "# Sankey diagram\n",
        "import plotly.graph_objects as go\n",
        "from plotly.offline import plot\n",
        "\n",
        "mc = max(label_c+1)\n",
        "mh = max(label_h+1)\n",
        "\n",
        "lab_c = ['C_{}'.format(x) for x in range(0,mc)]\n",
        "lab_h = ['H_{}'.format(x) for x in range(0,mh)]\n",
        "\n",
        "fig = go.Figure(data=[go.Sankey(\n",
        "    node = dict(\n",
        "      pad = 15,\n",
        "      thickness = 20,\n",
        "      line = dict(color = \"black\", width = 0.5),\n",
        "      label = lab_h + lab_c,\n",
        "      color = \"blue\"\n",
        "    ),\n",
        "    link = dict(\n",
        "      source = label_h,\n",
        "      target = label_c + mh + 1,\n",
        "      value =  [1] * len(label_c)\n",
        "  ))])\n",
        "\n",
        "fig.update_layout(title_text=\"Basic Sankey Diagram\", font_size=10)\n",
        "\n",
        "plot(fig, filename='basic-heatmap.html')"
      ]
    },
    {
      "cell_type": "code",
      "execution_count": null,
      "metadata": {
        "id": "Wmx6s6y9ierC"
      },
      "outputs": [],
      "source": [
        "# find genes, which are not in the same clusters\n",
        "count_c = np.bincount(label_c)\n",
        "count_h = np.bincount(label_h)\n",
        "\n",
        "ind_c = sorted(range(len(count_c)), key=lambda k: count_c[k])\n",
        "ind_h = sorted(range(len(count_h)), key=lambda k: count_h[k])\n",
        "\n",
        "mapping_c = {i : 0 for i in ind_c}\n",
        "mapping_h = {i : 0 for i in ind_h}\n",
        "\n",
        "indx = list(mapping_c.keys())\n",
        "for i in range(n_cl):\n",
        "    mapping_c[indx[i]] = i\n",
        "indx = list(mapping_h.keys())\n",
        "for i in range(n_cl):\n",
        "    mapping_h[indx[i]] = i\n",
        "\n",
        "lab_c_sort = np.array([mapping_c.get(number, number) for number in label_c])\n",
        "lab_h_sort = np.array([mapping_h.get(number, number) for number in label_h])\n",
        "\n",
        "equal_indces = lab_c_sort == lab_h_sort\n",
        "true_indces = np.sum(equal_indces)\n",
        "\n",
        "unequal_indces = np.array([not elem for elem in equal_indces])\n",
        "print(corr_c.index[unequal_indces])\n",
        "# print(corr_h.index[unequal_indces])\n",
        "print(np.sum(unequal_indces))"
      ]
    },
    {
      "cell_type": "code",
      "execution_count": null,
      "metadata": {
        "id": "WdYSMFfV3f1k"
      },
      "outputs": [],
      "source": [
        "### NEW CODE FOR SUBSETTING BASED ON DGE"
      ]
    },
    {
      "cell_type": "code",
      "execution_count": null,
      "metadata": {
        "id": "rAC-rFj83koC"
      },
      "outputs": [],
      "source": [
        "# select a Tregs\n",
        "tregs = adata[adata.obs.dblabel == 'regulatory T cell']"
      ]
    },
    {
      "cell_type": "code",
      "execution_count": null,
      "metadata": {
        "id": "wuiL_3Ld3p5a"
      },
      "outputs": [],
      "source": [
        "# find differentially expressed genes in the cell subset\n",
        "sc.tl.rank_genes_groups(tregs, groupby='Tissue', method='wilcoxon')\n",
        "\n",
        "# make visualization\n",
        "# sc.pl.rank_genes_groups_matrixplot(tregs, n_genes=8)"
      ]
    },
    {
      "cell_type": "code",
      "execution_count": null,
      "metadata": {
        "id": "Zu2b29cm3skz"
      },
      "outputs": [],
      "source": [
        "from itertools import chain\n",
        "\n",
        "# subset based top 20 DE genes\n",
        "ls = tregs.uns['rank_genes_groups']['names'][:20].tolist()\n",
        "deg_ls = list(chain.from_iterable(ls))\n",
        "\n",
        "lst = list(range(len(tregs.raw.var.SYMBOL)))\n",
        "df = pd.DataFrame()\n",
        "df['idxs'] = lst\n",
        "df['SYMBOL'] = tregs.raw.var.SYMBOL.tolist()\n",
        "\n",
        "subset_df = df[df['SYMBOL'].isin(deg_ls)]\n",
        "\n",
        "subset_df['idxs'].tolist()\n",
        "indices = df[df['SYMBOL'].isin(deg_ls)]['idxs'].tolist()\n",
        "\n",
        "tregs_N = tregs[tregs.obs.Tissue == 'Normal']\n",
        "tregs_T = tregs[tregs.obs.Tissue == 'Tumor']\n",
        "\n",
        "# reduced gene expression matrix\n",
        "reduced_matrix_N = tregs_N.raw.X[:,indices].todense()\n",
        "reduced_matrix_T = tregs_T.raw.X[:,indices].todense()\n",
        "\n",
        "# add gene names as row names\n",
        "reduced_matrix_N.indices = subset_df.SYMBOL\n",
        "reduced_matrix_T.indices = subset_df.SYMBOL"
      ]
    },
    {
      "cell_type": "code",
      "execution_count": null,
      "metadata": {
        "id": "dYaNdRcR7jII"
      },
      "outputs": [],
      "source": [
        "# calculate correlation matrix Normal\n",
        "corr_reduced_N = pd.DataFrame(reduced_matrix_N).corr(method='pearson')\n",
        "corr_reduced_N.index = subset_df['SYMBOL']\n",
        "\n",
        "# calculate correlation matrix Normal\n",
        "corr_reduced_T = pd.DataFrame(reduced_matrix_T).corr(method='pearson')\n",
        "corr_reduced_T.index = subset_df['SYMBOL']"
      ]
    },
    {
      "cell_type": "code",
      "execution_count": null,
      "metadata": {
        "id": "v0G7JQcx7sA3"
      },
      "outputs": [],
      "source": [
        "# Correlation heatmap\n",
        "plt.figure(figsize = (15,10))\n",
        "plt.title(\"Normal\")\n",
        "plt.xlabel('Years')\n",
        "sns.heatmap(corr_reduced_N, annot=False)\n",
        "plt.figure(figsize = (15,10))\n",
        "plt.title(\"Tumor\")\n",
        "sns.heatmap(corr_reduced_T, annot=False)"
      ]
    }
  ],
  "metadata": {
    "colab": {
      "provenance": []
    },
    "kernelspec": {
      "display_name": "Python 3",
      "name": "python3"
    },
    "language_info": {
      "name": "python"
    }
  },
  "nbformat": 4,
  "nbformat_minor": 0
}
